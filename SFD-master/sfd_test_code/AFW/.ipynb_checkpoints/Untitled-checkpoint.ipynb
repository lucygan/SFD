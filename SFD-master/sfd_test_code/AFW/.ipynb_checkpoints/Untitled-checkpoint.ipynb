{
 "cells": [
  {
   "cell_type": "code",
   "execution_count": 5,
   "metadata": {
    "scrolled": true
   },
   "outputs": [
    {
     "ename": "RuntimeError",
     "evalue": "Could not open file /models/VGGNet/WIDER_FACE/SFD/deploy.prototxt",
     "output_type": "error",
     "traceback": [
      "\u001b[0;31m---------------------------------------------------------------------------\u001b[0m",
      "\u001b[0;31mRuntimeError\u001b[0m                              Traceback (most recent call last)",
      "\u001b[0;32m<ipython-input-5-96db6c48c62a>\u001b[0m in \u001b[0;36m<module>\u001b[0;34m()\u001b[0m\n\u001b[1;32m     17\u001b[0m \u001b[0mmodel_def\u001b[0m \u001b[0;34m=\u001b[0m \u001b[0;34m'/models/VGGNet/WIDER_FACE/SFD/deploy.prototxt'\u001b[0m\u001b[0;34m\u001b[0m\u001b[0m\n\u001b[1;32m     18\u001b[0m \u001b[0mmodel_weights\u001b[0m \u001b[0;34m=\u001b[0m \u001b[0;34m'/models/VGGNet/WIDER_FACE/SFD/SFD.caffemodel'\u001b[0m\u001b[0;34m\u001b[0m\u001b[0m\n\u001b[0;32m---> 19\u001b[0;31m \u001b[0mnet\u001b[0m \u001b[0;34m=\u001b[0m \u001b[0mcaffe\u001b[0m\u001b[0;34m.\u001b[0m\u001b[0mNet\u001b[0m\u001b[0;34m(\u001b[0m\u001b[0mmodel_def\u001b[0m\u001b[0;34m,\u001b[0m \u001b[0mmodel_weights\u001b[0m\u001b[0;34m,\u001b[0m \u001b[0mcaffe\u001b[0m\u001b[0;34m.\u001b[0m\u001b[0mTEST\u001b[0m\u001b[0;34m)\u001b[0m\u001b[0;34m\u001b[0m\u001b[0m\n\u001b[0m\u001b[1;32m     20\u001b[0m \u001b[0;34m\u001b[0m\u001b[0m\n\u001b[1;32m     21\u001b[0m \u001b[0;34m\u001b[0m\u001b[0m\n",
      "\u001b[0;31mRuntimeError\u001b[0m: Could not open file /models/VGGNet/WIDER_FACE/SFD/deploy.prototxt"
     ]
    }
   ],
   "source": [
    "import numpy as np\n",
    "import cv2\n",
    "import matplotlib.pyplot as plt\n",
    "%matplotlib inline\n",
    "\n",
    "# Make sure that caffe is on the python path:\n",
    "caffe_root = '/home/ganlei/Downloads/caffe_s3fd/'  # this file is expected to be in {sfd_root}/sfd_test_code/AFW\n",
    "#import os\n",
    "#os.chdir(caffe_root)\n",
    "import sys\n",
    "sys.path.insert(0, 'python')\n",
    "import caffe\n",
    "\n",
    "\n",
    "caffe.set_device(0)\n",
    "caffe.set_mode_gpu()\n",
    "model_def = 'models/VGGNet/WIDER_FACE/SFD/deploy.prototxt'\n",
    "model_weights = 'models/VGGNet/WIDER_FACE/SFD/SFD.caffemodel'\n",
    "net = caffe.Net(model_def, model_weights, caffe.TEST)\n",
    "\n",
    "\n",
    "#count = 0\n",
    "Path = caffe_root + '/datasets/AFW/gl_test/'\n",
    "f = open(caffe_root + '/SFD-master/sfd_test_code/AFW/gl_afw_dets.txt', 'wt')\n",
    "\n",
    "for line in open(caffe_root + '/SFD-master/sfd_test_code/AFW/gl_pic_test.txt').readlines():\n",
    "    # Image_Path = Path + Name[:-1] + '.jpg'\n",
    "    Name = line.strip()\n",
    "    Image_Path = Path + Name + '.jpg'\n",
    "    image = caffe.io.load_image(Image_Path)\n",
    "    heigh = image.shape[0]\n",
    "    width = image.shape[1]\n",
    "\n",
    "    im_shrink = 640.0 / max(image.shape[0], image.shape[1])\n",
    "    image = cv2.resize(image, None, None, fx=im_shrink, fy=im_shrink, interpolation=cv2.INTER_LINEAR)\n",
    "\n",
    "    net.blobs['data'].reshape(1, 3, image.shape[0], image.shape[1])\n",
    "    transformer = caffe.io.Transformer({'data': net.blobs['data'].data.shape})\n",
    "    transformer.set_transpose('data', (2, 0, 1))\n",
    "    transformer.set_mean('data', np.array([104, 117, 123]))\n",
    "    transformer.set_raw_scale('data', 255)\n",
    "    transformer.set_channel_swap('data', (2, 1, 0))\n",
    "    transformed_image = transformer.preprocess('data', image)\n",
    "    net.blobs['data'].data[...] = transformed_image\n",
    "\n",
    "    detections = net.forward()['detection_out']\n",
    "    det_conf = detections[0, 0, :, 2]\n",
    "    det_xmin = detections[0, 0, :, 3]\n",
    "    det_ymin = detections[0, 0, :, 4]\n",
    "    det_xmax = detections[0, 0, :, 5]\n",
    "    det_ymax = detections[0, 0, :, 6]\n",
    "    \n",
    "    plt.imshow(image)\n",
    "    currentAxis = plt.gca()\n",
    "    for i in xrange(top_conf.shape[0]):\n",
    "        xmin = int(round(det_xmin[i] * width))\n",
    "        ymin = int(round(det_ymin[i] * heigh))\n",
    "        xmax = int(round(det_xmax[i] * width))\n",
    "        ymax = int(round(det_ymax[i] * heigh))\n",
    "        # simple fitting to AFW, because the gt box of training data (i.e., WIDER FACE) is longer than the gt box of AFW\n",
    "        ymin += 0.2 * (ymax - ymin + 1)\n",
    "        score = det_conf[i]\n",
    "        #I add this to plot box\n",
    " #       coord = (xmin,ymin),xmax-xmin+1,ymax-ymin+1\n",
    "        coord = (xmin,ymin),xmax-xmin+1,ymax-ymin+1\n",
    "        currentAxis.add_patch(plt.Rectangle(*coord,fill=False,linewidth=2))\n",
    "        currentAxis.text(xmin, ymin, score, bbox={'alpha':0.5})\n",
    "        if score < 0:\n",
    "            continue\n",
    "        f.write('{:s} {:.3f} {:.1f} {:.1f} {:.1f} {:.1f}\\n'.\n",
    "                format(Name, score, xmin, ymin, xmax, ymax))\n",
    "   # count += 1\n",
    "   # print('%d/1' % count)\n",
    "    #plt.savefig(\"./detection_result.png\",format='png')\n",
    "f.close()\n"
   ]
  },
  {
   "cell_type": "code",
   "execution_count": null,
   "metadata": {
    "collapsed": true
   },
   "outputs": [],
   "source": []
  },
  {
   "cell_type": "code",
   "execution_count": null,
   "metadata": {
    "collapsed": true
   },
   "outputs": [],
   "source": []
  }
 ],
 "metadata": {
  "kernelspec": {
   "display_name": "Python 2",
   "language": "python",
   "name": "python2"
  },
  "language_info": {
   "codemirror_mode": {
    "name": "ipython",
    "version": 2
   },
   "file_extension": ".py",
   "mimetype": "text/x-python",
   "name": "python",
   "nbconvert_exporter": "python",
   "pygments_lexer": "ipython2",
   "version": "2.7.14"
  }
 },
 "nbformat": 4,
 "nbformat_minor": 2
}
